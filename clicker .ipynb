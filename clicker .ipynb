{
 "cells": [
  {
   "cell_type": "code",
   "execution_count": 39,
   "id": "a06a4da2",
   "metadata": {},
   "outputs": [],
   "source": [
    "class CountingClicker:\n",
    "    def _init_ (self, count = 0):\n",
    "        self.count = count "
   ]
  },
  {
   "cell_type": "code",
   "execution_count": 38,
   "id": "d1dbd45f",
   "metadata": {},
   "outputs": [
    {
     "ename": "TypeError",
     "evalue": "CountingClicker() takes no arguments",
     "output_type": "error",
     "traceback": [
      "\u001b[1;31m---------------------------------------------------------------------------\u001b[0m",
      "\u001b[1;31mTypeError\u001b[0m                                 Traceback (most recent call last)",
      "\u001b[1;32m~\\AppData\\Local\\Temp\\ipykernel_16988\\1496624537.py\u001b[0m in \u001b[0;36m<module>\u001b[1;34m\u001b[0m\n\u001b[0;32m      1\u001b[0m \u001b[0mclicker1\u001b[0m \u001b[1;33m=\u001b[0m \u001b[0mCountingClicker\u001b[0m\u001b[1;33m(\u001b[0m\u001b[1;33m)\u001b[0m\u001b[1;33m\u001b[0m\u001b[1;33m\u001b[0m\u001b[0m\n\u001b[1;32m----> 2\u001b[1;33m \u001b[0mclicker2\u001b[0m \u001b[1;33m=\u001b[0m \u001b[0mCountingClicker\u001b[0m\u001b[1;33m(\u001b[0m\u001b[0mcount\u001b[0m\u001b[1;33m=\u001b[0m\u001b[1;36m100\u001b[0m\u001b[1;33m)\u001b[0m\u001b[1;33m\u001b[0m\u001b[1;33m\u001b[0m\u001b[0m\n\u001b[0m",
      "\u001b[1;31mTypeError\u001b[0m: CountingClicker() takes no arguments"
     ]
    }
   ],
   "source": [
    "clicker1 = CountingClicker()\n",
    "clicker2 = CountingClicker(count=100)"
   ]
  },
  {
   "cell_type": "code",
   "execution_count": 25,
   "id": "ef230a25",
   "metadata": {},
   "outputs": [],
   "source": [
    "def _repr_(self):\n",
    "    return f'CountingClicker(count=[self.count])'\n"
   ]
  },
  {
   "cell_type": "code",
   "execution_count": 29,
   "id": "d79705e7",
   "metadata": {},
   "outputs": [
    {
     "ename": "AttributeError",
     "evalue": "'CountingClicker' object has no attribute 'read'",
     "output_type": "error",
     "traceback": [
      "\u001b[1;31m---------------------------------------------------------------------------\u001b[0m",
      "\u001b[1;31mAttributeError\u001b[0m                            Traceback (most recent call last)",
      "\u001b[1;32m~\\AppData\\Local\\Temp\\ipykernel_16988\\3764931180.py\u001b[0m in \u001b[0;36m<module>\u001b[1;34m\u001b[0m\n\u001b[0;32m     10\u001b[0m \u001b[1;33m\u001b[0m\u001b[0m\n\u001b[0;32m     11\u001b[0m \u001b[0mclicker\u001b[0m \u001b[1;33m=\u001b[0m \u001b[0mCountingClicker\u001b[0m\u001b[1;33m(\u001b[0m\u001b[1;33m)\u001b[0m\u001b[1;33m\u001b[0m\u001b[1;33m\u001b[0m\u001b[0m\n\u001b[1;32m---> 12\u001b[1;33m \u001b[1;32massert\u001b[0m \u001b[0mclicker\u001b[0m\u001b[1;33m.\u001b[0m\u001b[0mread\u001b[0m\u001b[1;33m(\u001b[0m\u001b[1;33m)\u001b[0m \u001b[1;33m==\u001b[0m \u001b[1;36m0\u001b[0m\u001b[1;33m,\u001b[0m \u001b[1;34m\"Clicker should start whith count 0\"\u001b[0m\u001b[1;33m\u001b[0m\u001b[1;33m\u001b[0m\u001b[0m\n\u001b[0m\u001b[0;32m     13\u001b[0m \u001b[0mclicker\u001b[0m\u001b[1;33m.\u001b[0m\u001b[0mclick\u001b[0m\u001b[1;33m(\u001b[0m\u001b[1;33m)\u001b[0m\u001b[1;33m\u001b[0m\u001b[1;33m\u001b[0m\u001b[0m\n\u001b[0;32m     14\u001b[0m \u001b[0mclicker\u001b[0m\u001b[1;33m.\u001b[0m\u001b[0mclick\u001b[0m\u001b[1;33m(\u001b[0m\u001b[1;33m)\u001b[0m\u001b[1;33m\u001b[0m\u001b[1;33m\u001b[0m\u001b[0m\n",
      "\u001b[1;31mAttributeError\u001b[0m: 'CountingClicker' object has no attribute 'read'"
     ]
    }
   ],
   "source": [
    "def click(self, num_timer = 1):\n",
    "    self.count += num_times\n",
    "    \n",
    "def read(self):\n",
    "    return self.count\n",
    "\n",
    "def resert(self):\n",
    "    self.count = 0\n",
    "    \n",
    "    \n",
    "clicker = CountingClicker()\n",
    "assert clicker.read() == 0, \"Clicker should start whith count 0\"\n",
    "clicker.click()\n",
    "clicker.click()\n",
    "assert clicker.read() == 2, 'after trow clicks, clicker should have count 2'\n",
    "clicker.rset()\n",
    "assert clicker.read() == 0, 'after reset, clicker should be back to 0'"
   ]
  },
  {
   "cell_type": "code",
   "execution_count": null,
   "id": "fe7aeeb0",
   "metadata": {},
   "outputs": [],
   "source": []
  }
 ],
 "metadata": {
  "kernelspec": {
   "display_name": "Python 3 (ipykernel)",
   "language": "python",
   "name": "python3"
  },
  "language_info": {
   "codemirror_mode": {
    "name": "ipython",
    "version": 3
   },
   "file_extension": ".py",
   "mimetype": "text/x-python",
   "name": "python",
   "nbconvert_exporter": "python",
   "pygments_lexer": "ipython3",
   "version": "3.9.13"
  }
 },
 "nbformat": 4,
 "nbformat_minor": 5
}
